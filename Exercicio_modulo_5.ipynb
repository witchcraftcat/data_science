{
  "nbformat": 4,
  "nbformat_minor": 0,
  "metadata": {
    "colab": {
      "provenance": []
    },
    "kernelspec": {
      "name": "python3",
      "display_name": "Python 3"
    },
    "language_info": {
      "name": "python"
    }
  },
  "cells": [
    {
      "cell_type": "code",
      "execution_count": 8,
      "metadata": {
        "colab": {
          "base_uri": "https://localhost:8080/"
        },
        "id": "6x4s82D5JwDy",
        "outputId": "692f0677-3378-4afc-f353-e0d269d9b855"
      },
      "outputs": [
        {
          "output_type": "stream",
          "name": "stdout",
          "text": [
            "Digite o primeiro número: 10\n",
            "Digite o segundo número: 10\n",
            "Selecione a operação escolhendo o símbolo correspondente: \n",
            "Adição: +\n",
            "Subtração: -\n",
            "Divisão: /\n",
            "Multiplicação: *\n",
            " +\n",
            "O resultado de 10.0 + 10.0 é: 20.0\n"
          ]
        }
      ],
      "source": [
        "num_1 = float(input(\"Digite o primeiro número: \"))\n",
        "num_2 = float(input(\"Digite o segundo número: \"))\n",
        "\n",
        "continuar = None\n",
        "#resultado = None Vai impedir que um erro de definição seja mostrado caso pare no else da divisão por 0 ou uma operação diferente das oferecidas for escolhida.\n",
        "\n",
        "\n",
        "operacao = input(\"Selecione a operação escolhendo o símbolo correspondente: \\nAdição: +\\nSubtração: -\\nDivisão: /\\nMultiplicação: *\\n \")\n",
        "\n",
        "\n",
        "if operacao == \"+\":\n",
        "  resultado = num_1 + num_2\n",
        "  print(f'O resultado de {num_1} {operacao} {num_2} é: {resultado}')\n",
        "elif operacao == \"-\":\n",
        "  resultado = num_1 - num_2\n",
        "  print(f'O resultado de {num_1} {operacao} {num_2} é: {resultado}')\n",
        "elif operacao == \"/\":\n",
        "  if num_2 != 0:\n",
        "    resultado = num_1 / num_2\n",
        "    print(f'O resultado de {num_1} {operacao} {num_2} é: {resultado}')\n",
        "  else:\n",
        "    print(\"O denominador não pode ser zero!\")\n",
        "elif operacao == \"*\":\n",
        "  resultado = num_1 * num_2\n",
        "  print(f'O resultado de {num_1} {operacao} {num_2} é: {resultado}')\n",
        "else:\n",
        "  print(\"Escolha uma operação válida utilizando os símbolos +, -, / ou *!\")\n",
        "\n",
        "#print(f'O resultado de {num_1} {operacao} {num_2} é: {resultado}')\n",
        "\n",
        "\n"
      ]
    }
  ]
}